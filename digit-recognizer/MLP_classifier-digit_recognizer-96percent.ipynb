{
  "metadata": {
    "language_info": {
      "name": "python",
      "version": "3.6.1",
      "mimetype": "text/x-python",
      "codemirror_mode": {
        "name": "ipython",
        "version": 3
      },
      "pygments_lexer": "ipython3",
      "nbconvert_exporter": "python",
      "file_extension": ".py"
    },
    "kernelspec": {
      "display_name": "Python 3",
      "language": "python",
      "name": "python3"
    }
  },
  "cells": [
    {
      "source": "# This Python 3 environment comes with many helpful analytics libraries installed\n# It is defined by the kaggle/python docker image: https://github.com/kaggle/docker-python\n# For example, here's several helpful packages to load in \n\nimport numpy as np # linear algebra\nimport pandas as pd # data processing, CSV file I/O (e.g. pd.read_csv)\n\n# Input data files are available in the \"../input/\" directory.\n# For example, running this (by clicking run or pressing Shift+Enter) will list the files in the input directory\n\nfrom subprocess import check_output\nprint(check_output([\"ls\", \"../input\"]).decode(\"utf8\"))\ndata = pd.read_csv('../input/train.csv')\ndata.head()\n# Any results you write to the current directory are saved as output.",
      "execution_count": null,
      "cell_type": "code",
      "outputs": [],
      "metadata": {
        "_cell_guid": "755f7a9d-f55f-428d-aecd-cd92d21d3192",
        "_execution_state": "idle",
        "_uuid": "2682f49a2d0a72588a8c35944ba9c520d7521be6",
        "trusted": false
      }
    },
    {
      "source": "labels = data['label']\ndel data['label']\ndata.head()",
      "execution_count": null,
      "cell_type": "code",
      "outputs": [],
      "metadata": {
        "_cell_guid": "f544d3a3-ca14-44c8-9c9c-169c3c90a12f",
        "collapsed": false,
        "_execution_state": "idle",
        "_uuid": "7767315494dea662e2eb526a0032affe376a7159",
        "trusted": false
      }
    },
    {
      "source": "y = labels.as_matrix()\nX = data.as_matrix()\nlabels.head()",
      "execution_count": null,
      "cell_type": "code",
      "outputs": [],
      "metadata": {
        "_cell_guid": "49fa47ea-a167-42a8-ae15-6580e9f0f491",
        "collapsed": false,
        "_execution_state": "idle",
        "_uuid": "f4e1ef123db5e7419c4026e037558fa30b8c5d09",
        "trusted": false
      }
    },
    {
      "source": "from sklearn.model_selection import train_test_split\nX_train, X_test, y_train, y_test = train_test_split(X, y, test_size=0.15, random_state=42)\nprint(len(X_train))\nprint(len(y_train))\nprint(len(X_test))\nprint(len(y_test))",
      "execution_count": null,
      "cell_type": "code",
      "outputs": [],
      "metadata": {
        "_cell_guid": "54f6700d-c2b2-40c8-acca-29f6f918e7b4",
        "collapsed": false,
        "_execution_state": "idle",
        "_uuid": "25964e895cdc4890ed7e8ff3597ea26ed9b58eca",
        "trusted": false
      }
    },
    {
      "source": "import matplotlib.pyplot as plt\nimport matplotlib.cm as cm\ndef display_image(img):\n    one_image = img.reshape(28,28)\n    #print(one_image)\n    plt.axis('off')\n    plt.imshow(one_image, cmap=cm.binary)\n    plt.show()\nprint(len(X_train[0]))\n#print(X_train[0])\ndisplay_image(X_train[0])",
      "execution_count": null,
      "cell_type": "code",
      "outputs": [],
      "metadata": {
        "_cell_guid": "a8498ba4-90c8-48d2-b945-ce53439a54b4",
        "collapsed": false,
        "_execution_state": "idle",
        "_uuid": "61bb042c7ce7fc0126c7ff409abfe2ee87bb72c0",
        "trusted": false
      }
    },
    {
      "source": "from sklearn.neural_network import MLPClassifier\nfrom sklearn.metrics import accuracy_score\nclf = MLPClassifier(solver='lbfgs', alpha=1e-5, hidden_layer_sizes=(500, 500,500), random_state=1)\nclf.fit(X_train, y_train)\npred = clf.predict(X_test)\nprint(accuracy_score(pred,y_test))",
      "execution_count": null,
      "cell_type": "code",
      "outputs": [],
      "metadata": {
        "_cell_guid": "fe52a9a5-283e-439b-9869-e8d6cea57a12",
        "collapsed": false,
        "_execution_state": "busy",
        "_uuid": "26ba33e31a860ee9a8b57a62549d5f5d788ba91a",
        "trusted": false
      }
    },
    {
      "source": "test_data = pd.read_csv('../input/test.csv')\ntest_data.head()",
      "execution_count": null,
      "cell_type": "code",
      "outputs": [],
      "metadata": {
        "_cell_guid": "c04c14ab-427f-491e-8729-ddb9a095eeb9",
        "collapsed": false,
        "_execution_state": "busy",
        "_uuid": "96a12d01c8b15a1550faf9e0fecc4aea38f43216",
        "trusted": false
      }
    },
    {
      "source": "X_res = test_data.as_matrix()\nprint(X_res[:5])",
      "execution_count": null,
      "cell_type": "code",
      "outputs": [],
      "metadata": {
        "_cell_guid": "c8f7173b-ee07-4a16-a5d1-95e4b9d642e0",
        "collapsed": false,
        "_execution_state": "busy",
        "_uuid": "a498e6d38be4ece7c481e5cc0dec3098d6840005",
        "trusted": false
      }
    },
    {
      "source": "predict_res = clf.predict(X_res)\nprint(predict_res[:5])",
      "execution_count": null,
      "cell_type": "code",
      "outputs": [],
      "metadata": {
        "_cell_guid": "cd6c96d5-c00f-4f44-aca6-53be5d926788",
        "collapsed": false,
        "_execution_state": "busy",
        "_uuid": "7c5c774f3bcc008b9401b8176e10ad4b5f2db690",
        "trusted": false
      }
    },
    {
      "source": "imid = [i for i in range(1,len(predict_res)+1)]\nresult = pd.DataFrame({'ImageId':pd.Series(imid),'Label':pd.Series(predict_res)})\nresult.to_csv('result.csv',index=False)\nresult.head(20)",
      "execution_count": null,
      "cell_type": "code",
      "outputs": [],
      "metadata": {
        "_cell_guid": "d3ae2dd1-7833-4c76-a317-3a1a157885fa",
        "collapsed": false,
        "_execution_state": "busy",
        "_uuid": "739de6d2f785ef314a4f4bc76217ac1667844d72",
        "trusted": false
      }
    }
  ],
  "nbformat_minor": 0,
  "nbformat": 4
}