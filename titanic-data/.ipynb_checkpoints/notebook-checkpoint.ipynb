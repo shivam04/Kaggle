{
 "cells": [
  {
   "cell_type": "markdown",
   "metadata": {},
   "source": [
    "Titanic Data"
   ]
  },
  {
   "cell_type": "code",
   "execution_count": null,
   "metadata": {
    "collapsed": false
   },
   "outputs": [],
   "source": [
    "# This Python 3 environment comes with many helpful analytics libraries installed\n",
    "# It is defined by the kaggle/python docker image: https://github.com/kaggle/docker-python\n",
    "# For example, here's several helpful packages to load in \n",
    "\n",
    "import numpy as np # linear algebra\n",
    "import pandas as pd # data processing, CSV file I/O (e.g. pd.read_csv)\n",
    "\n",
    "# Input data files are available in the \"../input/\" directory.\n",
    "# For example, running this (by clicking run or pressing Shift+Enter) will list the files in the input directory\n",
    "\n",
    "\n",
    "\n",
    "# Any results you write to the current directory are saved as output."
   ]
  },
  {
   "cell_type": "code",
   "execution_count": 3,
   "metadata": {
    "collapsed": false
   },
   "outputs": [
    {
     "data": {
      "image/png": "[encoded data removed]",
      "text/plain": [
       "<matplotlib.figure.Figure at 0x75aae10>"
      ]
     },
     "metadata": {},
     "output_type": "display_data"
    },
    {
     "name": "stdout",
     "output_type": "stream",
     "text": [
      "   PassengerId  Pclass  Sex   Age     Fare  Embarked\n",
      "0            1       3    1  22.0   7.2500       2.0\n",
      "1            2       1    0  38.0  71.2833       0.0\n",
      "2            3       3    0  26.0   7.9250       2.0\n",
      "3            4       1    0  35.0  53.1000       2.0\n",
      "4            5       3    1  35.0   8.0500       2.0\n",
      "(0.88038277511961727, 25)\n"
     ]
    }
   ],
   "source": [
    "data_train = pd.read_csv('train.csv')\n",
    "data_test = pd.read_csv('test.csv')\n",
    "for k in ('Name', 'SibSp', 'Parch', 'Ticket', 'Cabin'):\n",
    "    del data_train[k]\n",
    "    del data_test[k]\n",
    "features_test = data_test\n",
    "labels_test = pd.read_csv('gender_submission.csv')\n",
    "del labels_test['PassengerId']\n",
    "#print (label_test.head())\n",
    "\n",
    "    \n",
    "#print(data_train.head())\n",
    "import matplotlib.pyplot as plt\n",
    "plt.plot(data_train['PassengerId'], data_train['Survived'], 'ro')\n",
    "plt.axis([0, 5,0 ,1])\n",
    "plt.show()\n",
    "labels_train = data_train['Survived']\n",
    "del data_train['Survived']\n",
    "features_train = data_train\n",
    "features_train['Sex'] =  np.where(features_train['Sex']=='male',1,0)\n",
    "features_test['Sex'] = np.where(features_test['Sex']=='male',1,0)\n",
    "\n",
    "features_train = features_train.replace(['C','Q','S'],[0,1,2])\n",
    "features_test = features_test.replace(['C','Q','S'],[0,1,2])\n",
    "print(features_train.head())\n",
    "mu = features_train['Age'].mean()\n",
    "features_train['Age'] = features_train['Age'].fillna(mu)\n",
    "mu = features_train['Fare'].mean()\n",
    "features_train['Fare'] = features_train['Fare'].fillna(mu)\n",
    "features_train['Embarked'] = features_train['Embarked'].fillna(0)\n",
    "mu = features_test['Age'].mean()\n",
    "\n",
    "features_test['Age'] = features_test['Age'].fillna(mu)\n",
    "mu = features_test['Fare'].mean()\n",
    "features_test['Fare'] = features_test['Fare'].fillna(mu)\n",
    "features_test['Embarked'] = features_test['Embarked'].fillna(0)\n",
    "#features_train = features_train.dropna()\n",
    "#features_test = features_test.dropna()\n",
    "from sklearn import tree\n",
    "from sklearn.metrics import accuracy_score\n",
    "acc = list(tuple())\n",
    "for s in range(2,100):\n",
    "    clf = tree.DecisionTreeClassifier(min_samples_split=s)\n",
    "    clf.fit(features_train,labels_train)\n",
    "    pred = clf.predict(features_test)\n",
    "    #print(len(pred))\n",
    "    \n",
    "    acc.append((accuracy_score(pred, labels_test),s))\n",
    "print(max(acc))\n",
    "clf = tree.DecisionTreeClassifier(min_samples_split=25)\n",
    "clf.fit(features_train,labels_train)\n",
    "pred = clf.predict(features_test)\n",
    "passengerId = [x for x in range(892,1309)]\n",
    "train = {'PassengerId':pd.Series(passengerId),'Survived':pd.Series(pred)}\n",
    "train = pd.DataFrame(train)\n",
    "train.to_csv('titanic.csv',index=False)"
   ]
  }
 ],
 "metadata": {
  "kernelspec": {
   "display_name": "Python 2",
   "language": "python",
   "name": "python2"
  },
  "language_info": {
   "codemirror_mode": {
    "name": "ipython",
    "version": 2
   },
   "file_extension": ".py",
   "mimetype": "text/x-python",
   "name": "python",
   "nbconvert_exporter": "python",
   "pygments_lexer": "ipython2",
   "version": "2.7.13"
  }
 },
 "nbformat": 4,
 "nbformat_minor": 0
}
